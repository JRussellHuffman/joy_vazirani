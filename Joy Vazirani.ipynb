{
  "cells": [
    {
      "cell_type": "code",
      "execution_count": 1,
      "metadata": {
        "trusted": true
      },
      "outputs": [
        {
          "name": "stderr",
          "output_type": "stream",
          "text": "/opt/conda/lib/python3.7/site-packages/qiskit/providers/ibmq/ibmqfactory.py:192: UserWarning: Timestamps in IBMQ backend properties, jobs, and job results are all now in local time instead of UTC.\n  warnings.warn('Timestamps in IBMQ backend properties, jobs, and job results '\n"
        }
      ],
      "source": "%matplotlib inline\n# Importing standard Qiskit libraries and configuring account\nfrom qiskit import QuantumCircuit, execute, Aer, IBMQ\nfrom qiskit.compiler import transpile, assemble\nfrom qiskit.tools.jupyter import *\nfrom qiskit.visualization import *\n# Loading your IBM Q account(s)\n# provider = IBMQ.load_account()\n\nIBMQ.load_account()\nprovider = IBMQ.get_provider('ibm-q-internal', 'deployed', 'default')"
    },
    {
      "cell_type": "code",
      "execution_count": 2,
      "metadata": {
        "trusted": true
      },
      "outputs": [],
      "source": "# initialization\nimport matplotlib.pyplot as plt\nimport numpy as np\n\n# importing Qiskit\nfrom qiskit import IBMQ, BasicAer\n# from qiskit.providers.ibmq import least_busy\nfrom qiskit.providers.ibmq import *\nfrom qiskit import QuantumCircuit, ClassicalRegister, QuantumRegister, execute\n\n# import basic plot tools\nfrom qiskit.visualization import plot_histogram"
    },
    {
      "cell_type": "code",
      "execution_count": 3,
      "metadata": {
        "trusted": true
      },
      "outputs": [],
      "source": "n = 7 # number of qubits used to represent s"
    },
    {
      "cell_type": "code",
      "execution_count": 4,
      "metadata": {
        "trusted": true
      },
      "outputs": [],
      "source": "def wordToBV(s) :\n    #convert text to binary\n    a_byte_array = bytearray(s, \"utf8\")\n    byte_list = []\n\n\n    for byte in a_byte_array:\n        binary_representation = bin(byte)\n        byte_list.append(binary_representation[9-n:])\n        #chop off the \"0b\" at the beginning. can also truncate the binary to fit on a device with N qubits\n        #binary has 2 extra digits for \"0b\", so it starts at 9 for our 7 bit operation. \n\n    print(byte_list)\n    \n    circuit_array = []\n    \n    length = len(byte_list) \n    \n    for i in range(length):\n    \n        s = byte_list[i]\n\n\n        #do all  this stuff for every letter\n\n        # We need a circuit with n qubits, plus one ancilla qubit\n        # Also need n classical bits to write the output to\n        bv_circuit = QuantumCircuit(n+1, n)\n\n        # put ancilla in state |->\n        bv_circuit.h(n)\n        bv_circuit.z(n)\n\n        # Apply Hadamard gates before querying the oracle\n        for i in range(n):\n            bv_circuit.h(i)\n\n        # Apply barrier \n        bv_circuit.barrier()\n\n        # Apply the inner-product oracle\n        s = s[::-1] # reverse s to fit qiskit's qubit ordering\n        for q in range(n):\n            if s[q] == '0':\n                bv_circuit.i(q)\n            else:\n                bv_circuit.cx(q, n)\n\n        # Apply barrier \n        bv_circuit.barrier()\n\n        #Apply Hadamard gates after querying the oracle\n        for i in range(n):\n            bv_circuit.h(i)\n\n        # Measurement\n        for i in range(n):\n            bv_circuit.measure(i, i)\n            \n        circuit_array.append(bv_circuit)\n\n    \n    return circuit_array"
    },
    {
      "cell_type": "code",
      "execution_count": 5,
      "metadata": {
        "trusted": true
      },
      "outputs": [
        {
          "name": "stdout",
          "output_type": "stream",
          "text": "['1010100', '1101111', '1110010', '1101111', '1101110', '1110100', '1101111']\n"
        }
      ],
      "source": "circuit_to_run = wordToBV('Toronto')"
    },
    {
      "cell_type": "code",
      "execution_count": 6,
      "metadata": {
        "trusted": true
      },
      "outputs": [
        {
          "data": {
            "image/png": "[encoded data removed]",
            "text/plain": "<Figure size 504x360 with 1 Axes>"
          },
          "execution_count": 6,
          "metadata": {},
          "output_type": "execute_result"
        }
      ],
      "source": "#run the first letter on a simulator\nbackend = BasicAer.get_backend('qasm_simulator')\nshots = 4096\nresults = execute(circuit_to_run[0], backend=backend, shots=shots).result()\nanswer = results.get_counts()\n\nplot_histogram(answer)"
    },
    {
      "cell_type": "code",
      "execution_count": null,
      "metadata": {
        "trusted": true
      },
      "outputs": [],
      "source": "#run on real hardware. \n\nIBMQ.load_account()\nprovider = IBMQ.get_provider('ibm-q-internal', 'deployed', 'default')\n\n#choose any device 8 qubits or more\n# device = least_busy(provider.backends(filters=lambda x: x.configuration().n_qubits >= 8 and \n#                                   not x.configuration().simulator and x.status().operational==True))\n    \n# print(\"Running on current least busy device: \", device)\n\n# or, specifically choose a device. Paris performs the best out of any device so far\ndevice = provider.get_backend('ibmq_toronto')\nprint(\"hardcoded to run on \", device)\n\n\n# Run our circuit on the least busy backend. Monitor the execution of the job in the queue\nfrom qiskit.tools.monitor import job_monitor\njob = execute(circuit_to_run, backend=device, shots=1024, max_credits=10)\njob_monitor(job, interval = 2)\n\n# Get the results from the computation\nresults = job.result()\nanswer = results.get_counts(circuit_to_run)\nplot_histogram(answer)"
    },
    {
      "cell_type": "code",
      "execution_count": null,
      "metadata": {
        "trusted": true
      },
      "outputs": [],
      "source": ""
    }
  ],
  "metadata": {
    "kernelspec": {
      "display_name": "Python 3",
      "language": "python",
      "name": "python3"
    },
    "language_info": {
      "codemirror_mode": {
        "name": "ipython",
        "version": 3
      },
      "file_extension": ".py",
      "mimetype": "text/x-python",
      "name": "python",
      "nbconvert_exporter": "python",
      "pygments_lexer": "ipython3",
      "version": "3.7.8"
    }
  },
  "nbformat": 4,
  "nbformat_minor": 4
}